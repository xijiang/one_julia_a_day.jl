{
 "cells": [
  {
   "cell_type": "markdown",
   "metadata": {},
   "source": [
    "This notebook try to use some Julia packages to grab data from the web.\n",
    "\n",
    "## OpenSky Network"
   ]
  },
  {
   "cell_type": "code",
   "execution_count": 1,
   "metadata": {},
   "outputs": [
    {
     "data": {
      "text/plain": [
       "5196-element Vector{Any}:\n",
       " Any[\"e49406\", \"GLO1717 \", \"Brazil\", 1610127025, 1610127029, -43.4746, -19.6475, 11582.4, false, 230.37, 223.28, 0, nothing, 12291.06, nothing, false, 0]\n",
       " Any[\"a785a0\", \"BTQ901  \", \"United States\", 1610127027, 1610127027, -112.0176, 33.4311, 274.32, false, 52.99, 90, 2.6, nothing, 320.04, nothing, false, 0]\n",
       " Any[\"4b1812\", \"SWR1076 \", \"Switzerland\", 1610127029, 1610127030, 9.1286, 49.8348, 2659.38, false, 137.37, 359.36, -5.2, nothing, 2628.9, \"1000\", false, 0]\n",
       " Any[\"a41eef\", \"N365AR  \", \"United States\", 1610127030, 1610127030, -104.7484, 38.9986, 5334, false, 62.82, 211.61, 3.25, nothing, 5394.96, nothing, false, 0]\n",
       " Any[\"a2e5de\", \"HGT3112 \", \"United States\", 1610127028, 1610127030, -113.011, 33.1977, 4693.92, false, 198.38, 106.88, -9.43, nothing, 4853.94, \"1757\", false, 0]\n",
       " Any[\"a305fd\", \"SKW3577 \", \"United States\", 1610127029, 1610127029, -94.1805, 43.724, 9144, false, 205.53, 209.71, 0.33, nothing, 9075.42, \"4217\", false, 0]\n",
       " Any[\"4b1803\", \"SWR255W \", \"Switzerland\", 1610127030, 1610127030, 2.2938, 41.4285, 10698.48, false, 187.1, 229.13, -2.6, nothing, 10668, \"5751\", false, 0]\n",
       " Any[\"aa56d8\", \"UAL2330 \", \"United States\", 1610127029, 1610127030, -75.2073, 39.0722, 11582.4, false, 208.89, 198.08, 0.33, nothing, 11475.72, \"7215\", false, 0]\n",
       " Any[\"a34230\", \"EJA309  \", \"United States\", nothing, 1610127028, nothing, nothing, nothing, false, 178.47, 287.96, -9.75, nothing, nothing, nothing, false, 0]\n",
       " Any[\"4b1804\", \"SWR126V \", \"Switzerland\", 1610127030, 1610127030, 17.8654, 59.388, 1249.68, false, 111.47, 9.03, -3.25, nothing, 1257.3, \"3026\", false, 0]\n",
       " Any[\"a3f2ae\", \"N35325  \", \"United States\", 1610127027, 1610127030, -112.0628, 33.698, 670.56, false, 41.38, 308.44, 3.25, nothing, 716.28, nothing, false, 0]\n",
       " Any[\"4b1809\", \"SWR     \", \"Switzerland\", 1610127029, 1610127029, -0.4469, 51.4686, nothing, true, 0, 267.19, nothing, nothing, nothing, \"3030\", false, 0]\n",
       " Any[\"a3687e\", \"AJT881  \", \"United States\", 1610127030, 1610127030, -75.6135, 38.2016, 10972.8, false, 197.49, 209.84, -0.33, nothing, 10850.88, \"3304\", false, 0]\n",
       " ⋮\n",
       " Any[\"a79537\", \"TKK800  \", \"United States\", 1610127027, 1610127030, -111.3888, 41.0484, 8458.2, false, 213.98, 86.14, 8.13, nothing, 8488.68, \"0520\", false, 0]\n",
       " Any[\"aa7833\", \"DAL383  \", \"United States\", 1610126940, 1610126940, -122.3037, 47.4428, nothing, true, 0, 137.81, nothing, nothing, nothing, \"6703\", false, 0]\n",
       " Any[\"a612a6\", \"UAL406  \", \"United States\", 1610127030, 1610127030, -84.7827, 37.5694, 10988.04, false, 231.36, 346.89, 0, nothing, 10828.02, \"3316\", false, 0]\n",
       " Any[\"a55568\", \"N4427R  \", \"United States\", 1610127030, 1610127030, -116.4718, 43.3872, 1440.18, false, 30.82, 146.58, 2.28, nothing, 1463.04, nothing, false, 0]\n",
       " Any[\"a6c516\", \"XOJ535  \", \"United States\", 1610127030, 1610127030, -78.6745, 29.3381, 13693.14, false, 241.64, 7.22, 1.3, nothing, 13936.98, nothing, false, 0]\n",
       " Any[\"4b1903\", \"SWR18   \", \"Switzerland\", 1610127029, 1610127030, -7.6298, 49.9793, 10363.2, false, 239.18, 279.16, 0.33, nothing, 10126.98, \"3025\", false, 0]\n",
       " Any[\"abc0e4\", \"SWA170  \", \"United States\", 1610127028, 1610127028, -88.748, 33.3649, 11582.4, false, 202.18, 303.69, 0, nothing, 11559.54, nothing, false, 0]\n",
       " Any[\"0ac9ad\", \"EFY7820 \", \"Colombia\", 1610127027, 1610127030, -74.503, 5.1132, 5791.2, false, 138.22, 106.21, 0.65, nothing, 6111.24, nothing, false, 0]\n",
       " Any[\"a9c380\", \"RPA3498 \", \"United States\", 1610127030, 1610127030, -87.8058, 41.9862, 975.36, false, 107.67, 86.99, 16.91, nothing, 1005.84, \"3170\", false, 0]\n",
       " Any[\"a41b89\", \"DAL689  \", \"United States\", 1610127028, 1610127028, -84.7411, 31.123, 11277.6, false, 238.4, 150.67, 0, nothing, 11353.8, \"1117\", false, 0]\n",
       " Any[\"a4e5f1\", \"N4144S  \", \"United States\", 1610127030, 1610127030, -95.9213, 39.1374, 1310.64, false, 87.16, 277.46, 0.65, nothing, 1371.6, nothing, false, 0]\n",
       " Any[\"c067ae\", \"ACA314  \", \"Canada\", 1610126739, 1610126913, -73.7475, 45.4588, nothing, true, 0, 196.88, nothing, nothing, nothing, nothing, false, 0]"
      ]
     },
     "execution_count": 1,
     "metadata": {},
     "output_type": "execute_result"
    }
   ],
   "source": [
    "using HTTP, JSON, DataFrames\n",
    "url = \"https://opensky-network.org/api/states/all\"\n",
    "dat = JSON.parse(String(HTTP.request(\"GET\", url).body))\n",
    "dat[\"states\"]"
   ]
  },
  {
   "cell_type": "markdown",
   "metadata": {},
   "source": [
    "The meaning of the data can be found at https://opensky-network.org/apidoc/.\n",
    "The downstream manipulation of above data is then trivial.\n",
    "\n",
    "## TheSportDB\n",
    "_an open, crowd sourced database of Sports metadata_\n",
    "\n",
    "This openDB needs a key."
   ]
  },
  {
   "cell_type": "code",
   "execution_count": 2,
   "metadata": {},
   "outputs": [],
   "source": [
    "# url = \"https://www.thesportsdb.com/api/v1/json/1/all_sports.php\"\n",
    "# and alike as above\n",
    "# the data structures here are more complicated"
   ]
  },
  {
   "cell_type": "code",
   "execution_count": null,
   "metadata": {},
   "outputs": [],
   "source": []
  }
 ],
 "metadata": {
  "kernelspec": {
   "display_name": "Julia 1.7.0-DEV",
   "language": "julia",
   "name": "julia-1.7"
  },
  "language_info": {
   "file_extension": ".jl",
   "mimetype": "application/julia",
   "name": "julia",
   "version": "1.7.0"
  }
 },
 "nbformat": 4,
 "nbformat_minor": 4
}
